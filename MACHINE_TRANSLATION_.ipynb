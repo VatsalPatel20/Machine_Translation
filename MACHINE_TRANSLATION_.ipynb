{
 "cells": [
  {
   "cell_type": "code",
   "execution_count": 1,
   "id": "e73882a8",
   "metadata": {},
   "outputs": [
    {
     "name": "stderr",
     "output_type": "stream",
     "text": [
      "/Library/Frameworks/Python.framework/Versions/3.10/lib/python3.10/site-packages/tqdm/auto.py:22: TqdmWarning: IProgress not found. Please update jupyter and ipywidgets. See https://ipywidgets.readthedocs.io/en/stable/user_install.html\n",
      "  from .autonotebook import tqdm as notebook_tqdm\n",
      "2022-11-05 23:01:03.316746: I tensorflow/core/platform/cpu_feature_guard.cc:193] This TensorFlow binary is optimized with oneAPI Deep Neural Network Library (oneDNN) to use the following CPU instructions in performance-critical operations:  AVX2 FMA\n",
      "To enable them in other operations, rebuild TensorFlow with the appropriate compiler flags.\n"
     ]
    }
   ],
   "source": [
    "from spacy.language import Language\n",
    "from spacy_langdetect import LanguageDetector\n",
    "import spacy\n",
    "import sentencepiece\n",
    "from transformers import MarianTokenizer, MarianMTModel"
   ]
  },
  {
   "cell_type": "code",
   "execution_count": 2,
   "id": "fbb6665b",
   "metadata": {},
   "outputs": [],
   "source": [
    "def language_identifier(data):\n",
    "    nlp=spacy.load(\"en_core_web_sm\")\n",
    "    def function_adding(nlp,name):\n",
    "        return LanguageDetector()\n",
    "    Language.factory(\"language_detector\",func=function_adding)\n",
    "    nlp.add_pipe(\"language_detector\",last=True)\n",
    "    doc=nlp(data)\n",
    "    result=doc._.language\n",
    "    return result"
   ]
  },
  {
   "cell_type": "code",
   "execution_count": 3,
   "id": "37fd22d6",
   "metadata": {},
   "outputs": [],
   "source": [
    "def machine_translator(data,language):\n",
    "    if language==\"fr\":\n",
    "        model_name=f\"Helsinki-NLP/opus-mt-fr-en\"\n",
    "        tokenizer=MarianTokenizer.from_pretrained(model_name)\n",
    "        Model=MarianMTModel.from_pretrained(model_name)\n",
    "        generation=Model.generate(**tokenizer([data],return_tensors='pt'))\n",
    "        result=[tokenizer.decode(t) for t in generation]\n",
    "        return \"\".join(result)\n",
    "    else:\n",
    "        model_name=f\"Helsinki-NLP/opus-mt-es-en\"\n",
    "        tokenizer=MarianTokenizer.from_pretrained(model_name)\n",
    "        Model=MarianMTModel.from_pretrained(model_name)\n",
    "        generation=Model.generate(**tokenizer([data],return_tensors='pt'))\n",
    "        result=[tokenizer.decode(t) for t in generation]\n",
    "        return \"\".join(result)"
   ]
  },
  {
   "cell_type": "code",
   "execution_count": 4,
   "id": "428e02e9",
   "metadata": {},
   "outputs": [],
   "source": [
    "def Output_In_English(input_data):\n",
    "    language_tag=language_identifier(input_data)\n",
    "    tag=language_tag['language']\n",
    "    if tag=='en':\n",
    "        output=input_data\n",
    "    elif tag=='fr' or tag=='es':\n",
    "        output=machine_translator(input_data,tag)\n",
    "    else:\n",
    "        output=\"PLEASE TRY AGAIN\"\n",
    "    return output"
   ]
  },
  {
   "cell_type": "code",
   "execution_count": 5,
   "id": "5c3b0d9c",
   "metadata": {},
   "outputs": [],
   "source": [
    "list_sentences=['Can I get boston creme with dark chocalate',\n",
    "                \"tomaré un café grande con dos azúcares y una crema\",\n",
    "               \"je prendrai un grand café avec deux sucres et une crème\",\n",
    "               \"bonjour comment vas-tu\",\n",
    "               \"Nǐ hǎo ma\"]"
   ]
  },
  {
   "cell_type": "code",
   "execution_count": 7,
   "id": "6a180a4b",
   "metadata": {},
   "outputs": [
    {
     "name": "stdout",
     "output_type": "stream",
     "text": [
      "ORIGINAL_TEXT\n",
      "Can I get boston creme with dark chocalate\n",
      "CONVERTED_TEXT\n",
      "Can I get boston creme with dark chocalate\n",
      "\n",
      "\n",
      "ORIGINAL_TEXT\n",
      "tomaré un café grande con dos azúcares y una crema\n",
      "CONVERTED_TEXT\n",
      "<pad> I'll have a big coffee with two sugars and a cream.\n",
      "\n",
      "\n",
      "ORIGINAL_TEXT\n",
      "je prendrai un grand café avec deux sucres et une crème\n",
      "CONVERTED_TEXT\n",
      "<pad> I'll have a big coffee with two sugars and a cream.\n",
      "\n",
      "\n",
      "ORIGINAL_TEXT\n",
      "bonjour comment vas-tu\n",
      "CONVERTED_TEXT\n",
      "<pad> Hello, how are you?\n",
      "\n",
      "\n",
      "ORIGINAL_TEXT\n",
      "Nǐ hǎo ma\n",
      "CONVERTED_TEXT\n",
      "PLEASE TRY AGAIN\n",
      "\n",
      "\n"
     ]
    }
   ],
   "source": [
    "for sentence in list_sentences:\n",
    "    print(\"ORIGINAL_TEXT\")\n",
    "    print(sentence)\n",
    "    print(\"CONVERTED_TEXT\")\n",
    "    print(Output_In_English(sentence))\n",
    "    print(\"\\n\")"
   ]
  },
  {
   "cell_type": "code",
   "execution_count": null,
   "id": "9e641d5b",
   "metadata": {},
   "outputs": [],
   "source": []
  }
 ],
 "metadata": {
  "kernelspec": {
   "display_name": "Python 3 (ipykernel)",
   "language": "python",
   "name": "python3"
  },
  "language_info": {
   "codemirror_mode": {
    "name": "ipython",
    "version": 3
   },
   "file_extension": ".py",
   "mimetype": "text/x-python",
   "name": "python",
   "nbconvert_exporter": "python",
   "pygments_lexer": "ipython3",
   "version": "3.10.3"
  }
 },
 "nbformat": 4,
 "nbformat_minor": 5
}
